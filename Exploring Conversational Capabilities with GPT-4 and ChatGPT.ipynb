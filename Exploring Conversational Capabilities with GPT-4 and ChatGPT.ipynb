{
 "cells": [
  {
   "cell_type": "markdown",
   "id": "1a8ba86f-adce-48e6-8311-1a36191ff107",
   "metadata": {},
   "source": [
    "# Exploring Conversational Capabilities with GPT-4 and ChatGPT"
   ]
  },
  {
   "cell_type": "code",
   "execution_count": 1,
   "id": "91b0f8ba-c813-46d1-b327-9fe1618fd395",
   "metadata": {},
   "outputs": [],
   "source": [
    "from langchain.chat_models import ChatOpenAI\n",
    "\n",
    "from langchain.schema import (\n",
    "    SystemMessage,\n",
    "    HumanMessage,\n",
    "    AIMessage\n",
    ")\n",
    "\n",
    "messages = [\n",
    "    SystemMessage(content=\"You are a helpful assistant.\"),\n",
    "    HumanMessage(content=\"What is the capital of France?\"),\n",
    "    AIMessage(content=\"The capital of France is Paris.\")\n",
    "]"
   ]
  },
  {
   "cell_type": "code",
   "execution_count": 4,
   "id": "14c149ac-1a4d-4894-8299-cd4f595ce481",
   "metadata": {},
   "outputs": [],
   "source": [
    "prompt = HumanMessage(\n",
    "    content=\"I'd like to know more about the city you just mentioned.\"\n",
    ")\n",
    "# add to messages\n",
    "messages.append(prompt)\n",
    "\n",
    "llm = ChatOpenAI()\n",
    "\n",
    "response = llm(messages)"
   ]
  },
  {
   "cell_type": "code",
   "execution_count": 5,
   "id": "aacec0d7-cec5-4756-8c7a-1a420986cfd0",
   "metadata": {},
   "outputs": [
    {
     "data": {
      "text/plain": [
       "AIMessage(content='Paris, the capital of France, is one of the most famous and visited cities in the world. It is located in the north-central part of the country, along the Seine River. With a population of over 2 million people, it is a bustling metropolis known for its art, culture, history, and gastronomy.\\n\\nParis is often referred to as the \"City of Light\" (La Ville Lumière) due to its role in the Age of Enlightenment and its early adoption of street lighting. The city is home to numerous iconic landmarks, including the Eiffel Tower, the Louvre Museum, Notre-Dame Cathedral, and the Arc de Triomphe. \\n\\nParis is also known for its charming neighborhoods, such as Montmartre, Le Marais, and Saint-Germain-des-Prés, each with its own unique character and attractions. The city has an extensive public transportation system, including buses, trams, and the Métro, making it easy to explore its various districts.\\n\\nAs a global center for art, fashion, and culture, Paris hosts numerous events and exhibitions throughout the year, such as Paris Fashion Week and the Paris Air Show. The city is also renowned for its culinary scene, featuring a wide array of restaurants, cafés, patisseries, and food markets that offer both traditional French cuisine and international flavors.\\n\\nIn addition to its historical and cultural attractions, Paris is an important international business hub and the headquarters for many multinational corporations and organizations, including UNESCO, the OECD, and the International Chamber of Commerce.', additional_kwargs={}, example=False)"
      ]
     },
     "execution_count": 5,
     "metadata": {},
     "output_type": "execute_result"
    }
   ],
   "source": [
    "AIMessage(content='Paris, the capital of France, is one of the most famous and visited cities in the world. It is located in the north-central part of the country, along the Seine River. With a population of over 2 million people, it is a bustling metropolis known for its art, culture, history, and gastronomy.\\n\\nParis is often referred to as the \"City of Light\" (La Ville Lumière) due to its role in the Age of Enlightenment and its early adoption of street lighting. The city is home to numerous iconic landmarks, including the Eiffel Tower, the Louvre Museum, Notre-Dame Cathedral, and the Arc de Triomphe. \\n\\nParis is also known for its charming neighborhoods, such as Montmartre, Le Marais, and Saint-Germain-des-Prés, each with its own unique character and attractions. The city has an extensive public transportation system, including buses, trams, and the Métro, making it easy to explore its various districts.\\n\\nAs a global center for art, fashion, and culture, Paris hosts numerous events and exhibitions throughout the year, such as Paris Fashion Week and the Paris Air Show. The city is also renowned for its culinary scene, featuring a wide array of restaurants, cafés, patisseries, and food markets that offer both traditional French cuisine and international flavors.\\n\\nIn addition to its historical and cultural attractions, Paris is an important international business hub and the headquarters for many multinational corporations and organizations, including UNESCO, the OECD, and the International Chamber of Commerce.', additional_kwargs={}, example=False)"
   ]
  },
  {
   "cell_type": "code",
   "execution_count": null,
   "id": "237331ab-3eae-466f-9cbc-8d95f3fd03b3",
   "metadata": {},
   "outputs": [],
   "source": []
  }
 ],
 "metadata": {
  "kernelspec": {
   "display_name": "Python 3 (ipykernel)",
   "language": "python",
   "name": "python3"
  },
  "language_info": {
   "codemirror_mode": {
    "name": "ipython",
    "version": 3
   },
   "file_extension": ".py",
   "mimetype": "text/x-python",
   "name": "python",
   "nbconvert_exporter": "python",
   "pygments_lexer": "ipython3",
   "version": "3.10.12"
  }
 },
 "nbformat": 4,
 "nbformat_minor": 5
}
