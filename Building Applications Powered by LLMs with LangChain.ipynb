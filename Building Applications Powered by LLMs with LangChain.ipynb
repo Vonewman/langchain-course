{
 "cells": [
  {
   "cell_type": "markdown",
   "id": "a21df96f-4f96-4e8f-a274-63103e69226e",
   "metadata": {},
   "source": [
    "# Building Applications Powered by LLMs with LangChain"
   ]
  },
  {
   "cell_type": "markdown",
   "id": "9c8ac801-01a9-499d-9e19-d434aeb4d304",
   "metadata": {},
   "source": [
    "## Introduction"
   ]
  },
  {
   "cell_type": "markdown",
   "id": "05058de3-7ee9-4f27-b102-472c22ef2d07",
   "metadata": {},
   "source": [
    "## Prompt use case"
   ]
  },
  {
   "cell_type": "code",
   "execution_count": 3,
   "id": "e142c20a-941e-45c8-b828-6ace4c0f152f",
   "metadata": {},
   "outputs": [
    {
     "name": "stdout",
     "output_type": "stream",
     "text": [
      "\"Tenet\" is a science fiction action-thriller film directed by Christopher Nolan. It was released in 2020 and stars John David Washington, Robert Pattinson, Elizabeth Debicki, Dimple Kapadia, Michael Caine, and Kenneth Branagh.\n",
      "\n",
      "The film follows a protagonist, played by John David Washington, who is armed with only one word, \"Tenet,\" and is fighting for the survival of the world as he journeys through a twilight world of international espionage on a mission that will unfold in something beyond real-time.\n",
      "\n",
      "\"Tenet\" is known for its complex and mind-bending narrative, which involves the concept of time inversion, where objects and people can move backward in time. The film received positive reviews for its visual effects, action sequences, and performances.\n",
      "\n",
      "If you are looking for more specific information about \"Tenet,\" such as plot details, reviews, or box office performance, please let me know.\n"
     ]
    }
   ],
   "source": [
    "from langchain.chat_models import ChatOpenAI\n",
    "from langchain.prompts.chat import (\n",
    "    ChatPromptTemplate,\n",
    "    SystemMessagePromptTemplate,\n",
    "    HumanMessagePromptTemplate,\n",
    ")\n",
    "\n",
    "# Before executing the following code, make sure to have\n",
    "# your OpenAI key saved in the “OPENAI_API_KEY” environment variable.\n",
    "chat = ChatOpenAI(model_name=\"gpt-3.5-turbo\", temperature=0)\n",
    "\n",
    "template = \"You are an assistant that helps users find information about movies.\"\n",
    "system_message_prompt = SystemMessagePromptTemplate.from_template(template)\n",
    "human_template = \"Find information about the movie {movie_title}.\"\n",
    "human_message_prompt = HumanMessagePromptTemplate.from_template(human_template)\n",
    "\n",
    "chat_prompt = ChatPromptTemplate.from_messages([system_message_prompt, human_message_prompt])\n",
    "\n",
    "response = chat(chat_prompt.format_prompt(movie_title=\"Tenet\").to_messages())\n",
    "\n",
    "print(response.content)"
   ]
  },
  {
   "cell_type": "markdown",
   "id": "c3f4754a-fad1-4b21-95fe-395a1408d6a1",
   "metadata": {},
   "source": [
    "## Summarization chain example"
   ]
  },
  {
   "cell_type": "code",
   "execution_count": 10,
   "id": "fda804b4-8e2e-48af-bee5-e3fdce9df811",
   "metadata": {},
   "outputs": [
    {
     "name": "stdout",
     "output_type": "stream",
     "text": [
      " La Direction générale des Impôts et des Domaines (DGID) informe les contribuables que la loi n°2022-19 du 27 mai 2022 portant loi de ﬁnances rectiﬁcative pour l’année 2022 a modifié l'imposition des personnes physiques titulaires d’un revenu net annuel supérieur à cinquante millions (50.000.000) de francs CFA. Les employeurs de salariés concernés par cette mesure sont invités à prendre les mesures nécessaires pour veiller à l’application des nouvelles dispositions de l’article 173 du Code général des Impôts. Un délai supplémentaire expirant le 15 février 2023 leur est accordé pour déposer les déclarations rectiﬁcatives et procéder à la régularisation des droits complémentaires dus en matière de retenues à la source sur les salaires.\n"
     ]
    }
   ],
   "source": [
    "# Import necessary modules\n",
    "from langchain import OpenAI, PromptTemplate\n",
    "from langchain.chains.summarize import load_summarize_chain\n",
    "from langchain.document_loaders import PyPDFLoader\n",
    "\n",
    "# Initialize language model\n",
    "llm = OpenAI(model_name=\"text-davinci-003\", temperature=0)\n",
    "\n",
    "# Load the summarization chain\n",
    "summarize_chain = load_summarize_chain(llm)\n",
    "\n",
    "# Load the document using PyPDFLoader\n",
    "document_loader = PyPDFLoader(file_path=\"data/Dossier_1/art. 174 CGI bareme communique.pdf\")\n",
    "document = document_loader.load()\n",
    "\n",
    "# Summarize the document\n",
    "summary = summarize_chain(document)\n",
    "print(summary['output_text'])"
   ]
  },
  {
   "cell_type": "markdown",
   "id": "eae6fef2-0ef1-4bac-b6e8-cf3027895a26",
   "metadata": {},
   "source": [
    "## QA chain "
   ]
  },
  {
   "cell_type": "code",
   "execution_count": 11,
   "id": "230a4bfb-a593-49db-b88a-09805b967b85",
   "metadata": {},
   "outputs": [],
   "source": [
    "from langchain.prompts import PromptTemplate\n",
    "from langchain.chains import LLMChain\n",
    "from langchain.llms import OpenAI\n",
    "\n",
    "prompt = PromptTemplate(template=\"Question: {question}\\nAnswer:\", input_variables=[\"question\"])\n",
    "\n",
    "llm = OpenAI(model_name=\"text-davinci-003\", temperature=0)\n",
    "chain = LLMChain(llm=llm, prompt=prompt)"
   ]
  },
  {
   "cell_type": "code",
   "execution_count": 12,
   "id": "8c049bd0-e543-4b41-bed7-71f283a23cdf",
   "metadata": {},
   "outputs": [
    {
     "data": {
      "text/plain": [
       "' The meaning of life is subjective and can vary from person to person. For some, it may be to find happiness and fulfillment, while for others it may be to make a difference in the world. Ultimately, the meaning of life is up to each individual to decide.'"
      ]
     },
     "execution_count": 12,
     "metadata": {},
     "output_type": "execute_result"
    }
   ],
   "source": [
    "chain.run(\"what is the meaning of life?\")"
   ]
  },
  {
   "cell_type": "code",
   "execution_count": null,
   "id": "369612b8-c19e-44e2-839c-3779f1b464c6",
   "metadata": {},
   "outputs": [],
   "source": []
  }
 ],
 "metadata": {
  "kernelspec": {
   "display_name": "Python 3 (ipykernel)",
   "language": "python",
   "name": "python3"
  },
  "language_info": {
   "codemirror_mode": {
    "name": "ipython",
    "version": 3
   },
   "file_extension": ".py",
   "mimetype": "text/x-python",
   "name": "python",
   "nbconvert_exporter": "python",
   "pygments_lexer": "ipython3",
   "version": "3.10.6"
  }
 },
 "nbformat": 4,
 "nbformat_minor": 5
}
